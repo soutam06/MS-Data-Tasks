{
 "cells": [
  {
   "cell_type": "code",
   "execution_count": 10,
   "id": "6970899a-3689-4fc0-847d-72e184896d79",
   "metadata": {},
   "outputs": [],
   "source": [
    "import pandas as pd"
   ]
  },
  {
   "cell_type": "code",
   "execution_count": 26,
   "id": "337c98f6-ba03-4bcb-bfe6-785d623121d7",
   "metadata": {},
   "outputs": [],
   "source": [
    "df1 = pd.read_csv('Kullu Final week wise.csv')"
   ]
  },
  {
   "cell_type": "code",
   "execution_count": 28,
   "id": "9b4b4559-da84-4e9f-9913-5b877a502332",
   "metadata": {},
   "outputs": [
    {
     "data": {
      "text/plain": [
       "(678, 15)"
      ]
     },
     "execution_count": 28,
     "metadata": {},
     "output_type": "execute_result"
    }
   ],
   "source": [
    "df1.shape"
   ]
  },
  {
   "cell_type": "code",
   "execution_count": null,
   "id": "3370592e-9880-42f7-9866-4914c406f557",
   "metadata": {},
   "outputs": [],
   "source": []
  }
 ],
 "metadata": {
  "kernelspec": {
   "display_name": "Python 3 (ipykernel)",
   "language": "python",
   "name": "python3"
  },
  "language_info": {
   "codemirror_mode": {
    "name": "ipython",
    "version": 3
   },
   "file_extension": ".py",
   "mimetype": "text/x-python",
   "name": "python",
   "nbconvert_exporter": "python",
   "pygments_lexer": "ipython3",
   "version": "3.12.4"
  }
 },
 "nbformat": 4,
 "nbformat_minor": 5
}
