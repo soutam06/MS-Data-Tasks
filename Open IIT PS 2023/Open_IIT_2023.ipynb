{
 "cells": [
  {
   "cell_type": "code",
   "execution_count": 9,
   "id": "6970899a-3689-4fc0-847d-72e184896d79",
   "metadata": {},
   "outputs": [],
   "source": [
    "import numpy as np\n",
    "import pandas as pd\n",
    "from matplotlib import pyplot as plt\n",
    "%matplotlib inline"
   ]
  },
  {
   "cell_type": "code",
   "execution_count": 23,
   "id": "337c98f6-ba03-4bcb-bfe6-785d623121d7",
   "metadata": {},
   "outputs": [],
   "source": [
    "kullu_df1 = pd.read_csv('Kullu Final week wise.csv')"
   ]
  },
  {
   "cell_type": "code",
   "execution_count": 25,
   "id": "9b4b4559-da84-4e9f-9913-5b877a502332",
   "metadata": {},
   "outputs": [
    {
     "data": {
      "text/plain": [
       "(678, 15)"
      ]
     },
     "execution_count": 25,
     "metadata": {},
     "output_type": "execute_result"
    }
   ],
   "source": [
    "kullu_df1.shape"
   ]
  },
  {
   "cell_type": "code",
   "execution_count": 27,
   "id": "3370592e-9880-42f7-9866-4914c406f557",
   "metadata": {},
   "outputs": [
    {
     "data": {
      "text/html": [
       "<div>\n",
       "<style scoped>\n",
       "    .dataframe tbody tr th:only-of-type {\n",
       "        vertical-align: middle;\n",
       "    }\n",
       "\n",
       "    .dataframe tbody tr th {\n",
       "        vertical-align: top;\n",
       "    }\n",
       "\n",
       "    .dataframe thead th {\n",
       "        text-align: right;\n",
       "    }\n",
       "</style>\n",
       "<table border=\"1\" class=\"dataframe\">\n",
       "  <thead>\n",
       "    <tr style=\"text-align: right;\">\n",
       "      <th></th>\n",
       "      <th>Week</th>\n",
       "      <th>Season</th>\n",
       "      <th>Air Travel</th>\n",
       "      <th>Hotel and Acc</th>\n",
       "      <th>Rail Travel</th>\n",
       "      <th>Shopping</th>\n",
       "      <th>Covid 19</th>\n",
       "      <th>Travel Guides &amp; Travelogues</th>\n",
       "      <th>Car Rental &amp; Taxi Services</th>\n",
       "      <th>Tourist Destinations</th>\n",
       "      <th>Image Search</th>\n",
       "      <th>W1</th>\n",
       "      <th>W2</th>\n",
       "      <th>W3</th>\n",
       "      <th>Weekwise Tourists</th>\n",
       "    </tr>\n",
       "  </thead>\n",
       "  <tbody>\n",
       "    <tr>\n",
       "      <th>0</th>\n",
       "      <td>03-01-2010</td>\n",
       "      <td>1</td>\n",
       "      <td>28</td>\n",
       "      <td>0</td>\n",
       "      <td>0</td>\n",
       "      <td>26</td>\n",
       "      <td>0</td>\n",
       "      <td>31</td>\n",
       "      <td>77</td>\n",
       "      <td>21</td>\n",
       "      <td>24</td>\n",
       "      <td>-0.90775</td>\n",
       "      <td>0.529753</td>\n",
       "      <td>0.258209</td>\n",
       "      <td>25286.71</td>\n",
       "    </tr>\n",
       "    <tr>\n",
       "      <th>1</th>\n",
       "      <td>10-01-2010</td>\n",
       "      <td>1</td>\n",
       "      <td>0</td>\n",
       "      <td>0</td>\n",
       "      <td>0</td>\n",
       "      <td>0</td>\n",
       "      <td>0</td>\n",
       "      <td>65</td>\n",
       "      <td>0</td>\n",
       "      <td>0</td>\n",
       "      <td>0</td>\n",
       "      <td>-0.50422</td>\n",
       "      <td>0.462215</td>\n",
       "      <td>0.100223</td>\n",
       "      <td>25286.71</td>\n",
       "    </tr>\n",
       "    <tr>\n",
       "      <th>2</th>\n",
       "      <td>17-01-2010</td>\n",
       "      <td>1</td>\n",
       "      <td>0</td>\n",
       "      <td>26</td>\n",
       "      <td>0</td>\n",
       "      <td>97</td>\n",
       "      <td>0</td>\n",
       "      <td>30</td>\n",
       "      <td>0</td>\n",
       "      <td>0</td>\n",
       "      <td>0</td>\n",
       "      <td>-0.46471</td>\n",
       "      <td>-0.395820</td>\n",
       "      <td>0.631128</td>\n",
       "      <td>25286.71</td>\n",
       "    </tr>\n",
       "    <tr>\n",
       "      <th>3</th>\n",
       "      <td>24-01-2010</td>\n",
       "      <td>1</td>\n",
       "      <td>0</td>\n",
       "      <td>0</td>\n",
       "      <td>44</td>\n",
       "      <td>24</td>\n",
       "      <td>0</td>\n",
       "      <td>36</td>\n",
       "      <td>0</td>\n",
       "      <td>0</td>\n",
       "      <td>25</td>\n",
       "      <td>-0.90775</td>\n",
       "      <td>0.529753</td>\n",
       "      <td>0.258209</td>\n",
       "      <td>25286.71</td>\n",
       "    </tr>\n",
       "    <tr>\n",
       "      <th>4</th>\n",
       "      <td>31-01-2010</td>\n",
       "      <td>1</td>\n",
       "      <td>0</td>\n",
       "      <td>100</td>\n",
       "      <td>0</td>\n",
       "      <td>0</td>\n",
       "      <td>0</td>\n",
       "      <td>79</td>\n",
       "      <td>0</td>\n",
       "      <td>30</td>\n",
       "      <td>33</td>\n",
       "      <td>-0.41561</td>\n",
       "      <td>0.431946</td>\n",
       "      <td>0.639136</td>\n",
       "      <td>32765.53</td>\n",
       "    </tr>\n",
       "  </tbody>\n",
       "</table>\n",
       "</div>"
      ],
      "text/plain": [
       "         Week  Season  Air Travel  Hotel and Acc  Rail Travel  Shopping  \\\n",
       "0  03-01-2010       1          28              0            0        26   \n",
       "1  10-01-2010       1           0              0            0         0   \n",
       "2  17-01-2010       1           0             26            0        97   \n",
       "3  24-01-2010       1           0              0           44        24   \n",
       "4  31-01-2010       1           0            100            0         0   \n",
       "\n",
       "   Covid 19  Travel Guides & Travelogues  Car Rental & Taxi Services  \\\n",
       "0         0                           31                          77   \n",
       "1         0                           65                           0   \n",
       "2         0                           30                           0   \n",
       "3         0                           36                           0   \n",
       "4         0                           79                           0   \n",
       "\n",
       "   Tourist Destinations  Image Search       W1        W2        W3  \\\n",
       "0                    21            24 -0.90775  0.529753  0.258209   \n",
       "1                     0             0 -0.50422  0.462215  0.100223   \n",
       "2                     0             0 -0.46471 -0.395820  0.631128   \n",
       "3                     0            25 -0.90775  0.529753  0.258209   \n",
       "4                    30            33 -0.41561  0.431946  0.639136   \n",
       "\n",
       "   Weekwise Tourists  \n",
       "0           25286.71  \n",
       "1           25286.71  \n",
       "2           25286.71  \n",
       "3           25286.71  \n",
       "4           32765.53  "
      ]
     },
     "execution_count": 27,
     "metadata": {},
     "output_type": "execute_result"
    }
   ],
   "source": [
    "kullu_df1.head()"
   ]
  },
  {
   "cell_type": "code",
   "execution_count": 29,
   "id": "bab0665f-7431-48ec-a9e5-d5acf8535082",
   "metadata": {},
   "outputs": [
    {
     "data": {
      "text/plain": [
       "Week                           0\n",
       "Season                         0\n",
       "Air Travel                     0\n",
       "Hotel and Acc                  0\n",
       "Rail Travel                    0\n",
       "Shopping                       0\n",
       "Covid 19                       0\n",
       "Travel Guides & Travelogues    0\n",
       "Car Rental & Taxi Services     0\n",
       "Tourist Destinations           0\n",
       "Image Search                   0\n",
       "W1                             0\n",
       "W2                             0\n",
       "W3                             0\n",
       "Weekwise Tourists              0\n",
       "dtype: int64"
      ]
     },
     "execution_count": 29,
     "metadata": {},
     "output_type": "execute_result"
    }
   ],
   "source": [
    "kullu_df1.isnull().sum()"
   ]
  },
  {
   "cell_type": "code",
   "execution_count": 37,
   "id": "7f59f095-6ae3-4522-ae14-6ed263f9d77e",
   "metadata": {},
   "outputs": [
    {
     "data": {
      "text/plain": [
       "Season\n",
       "1    159\n",
       "2    169\n",
       "3    169\n",
       "4    181\n",
       "Name: Season, dtype: int64"
      ]
     },
     "execution_count": 37,
     "metadata": {},
     "output_type": "execute_result"
    }
   ],
   "source": [
    "kullu_df1.groupby('Season')['Season'].agg('count')"
   ]
  },
  {
   "cell_type": "code",
   "execution_count": 39,
   "id": "c9737e60-9b07-4a7a-9db8-a7ab90e1414c",
   "metadata": {},
   "outputs": [
    {
     "data": {
      "text/plain": [
       "array([     0,     14,     19,    112,    132,    146,     88,     44,\n",
       "          180,    488,   1262,   1422,   1305,   1401,   2260,   2536,\n",
       "         1980,   2437,   4501,   7459,   8090,   8886,   9855,  10208,\n",
       "        11664,  18014,  27854,  29040,  24244,  21078,  18327,  18303,\n",
       "        18706,  24192,  40498,  48207,  53396,  57599,  54381,  43692,\n",
       "        31459,  16931,   7426,   5072,   3244,   2607,   3263,   3055,\n",
       "         1759,   2778,   4491,   6638,  12713,  22014,  31490,  51480,\n",
       "        81696, 122490, 192893, 265049, 226379, 135149,  70626,  40493,\n",
       "        22515,  13339,  10337,   8996,   7492,   7027,  10741,  17173,\n",
       "        18241,  14072,  12132,  11629,  10991,  12244,  11626,   9808,\n",
       "         9280,  10021,  13322,  10583,   7810,   1999,   5754,   4820,\n",
       "         3591,   2817,   3290,  16028,  63752, 110903,  72675,  49323,\n",
       "        27142,  13935,   8525,   3968,   3121,   2125,   1331,    763,\n",
       "          461,    434,    474,    390,    447,    520,    308,    478,\n",
       "          955,   1196,   2123,      1], dtype=int64)"
      ]
     },
     "execution_count": 39,
     "metadata": {},
     "output_type": "execute_result"
    }
   ],
   "source": [
    "kullu_df1[\"Covid 19\"].unique()"
   ]
  },
  {
   "cell_type": "code",
   "execution_count": 47,
   "id": "40e2a1bb-bc83-4ef3-881c-b6e8dd72263d",
   "metadata": {},
   "outputs": [
    {
     "data": {
      "text/plain": [
       "<Figure size 600x400 with 0 Axes>"
      ]
     },
     "execution_count": 47,
     "metadata": {},
     "output_type": "execute_result"
    },
    {
     "data": {
      "image/png": "[encoded data removed]",
      "text/plain": [
       "<Figure size 640x480 with 1 Axes>"
      ]
     },
     "metadata": {},
     "output_type": "display_data"
    },
    {
     "data": {
      "image/png": "[encoded data removed]",
      "text/plain": [
       "<Figure size 600x400 with 1 Axes>"
      ]
     },
     "metadata": {},
     "output_type": "display_data"
    },
    {
     "data": {
      "text/plain": [
       "<Figure size 600x400 with 0 Axes>"
      ]
     },
     "metadata": {},
     "output_type": "display_data"
    }
   ],
   "source": [
    "plt.subplot(2,2,1)\n",
    "kullu_df1[\"Covid 19\"].hist(bins=10,edgecolor='black',grid=False)\n",
    "plt.xlabel('value')\n",
    "plt.ylabel('count')\n",
    "plt.figure(figsize=(6,4))\n",
    "\n",
    "plt.subplot(2,2,2)\n",
    "kullu_df1[\"Season\"].hist(bins=10,edgecolor='black',grid=False)\n",
    "plt.xlabel('value')\n",
    "plt.ylabel('count')\n",
    "plt.figure(figsize=(6,4))"
   ]
  },
  {
   "cell_type": "code",
   "execution_count": null,
   "id": "95682cc1-e632-4da3-a033-1976dd2dbfa7",
   "metadata": {},
   "outputs": [],
   "source": []
  }
 ],
 "metadata": {
  "kernelspec": {
   "display_name": "Python 3 (ipykernel)",
   "language": "python",
   "name": "python3"
  },
  "language_info": {
   "codemirror_mode": {
    "name": "ipython",
    "version": 3
   },
   "file_extension": ".py",
   "mimetype": "text/x-python",
   "name": "python",
   "nbconvert_exporter": "python",
   "pygments_lexer": "ipython3",
   "version": "3.12.4"
  }
 },
 "nbformat": 4,
 "nbformat_minor": 5
}
