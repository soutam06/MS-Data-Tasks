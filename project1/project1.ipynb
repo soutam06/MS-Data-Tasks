{
 "cells": [
  {
   "cell_type": "code",
   "execution_count": 133,
   "id": "a9c3a24e-f2e3-4b21-9b8e-c8f807944338",
   "metadata": {},
   "outputs": [],
   "source": [
    "import pandas as pd\n",
    "import numpy as np\n",
    "from matplotlib import pyplot as plt\n",
    "import seaborn as sns\n",
    "from sklearn.preprocessing import LabelEncoder\n",
    "%matplotlib inline\n",
    "import matplotlib\n",
    "# matplotlib.rcParams[\"figure.figsize\"]=(8,4)\n",
    "from sklearn.model_selection import train_test_split\n",
    "from sklearn.linear_model import SGDRegressor\n",
    "from sklearn.metrics import mean_squared_error"
   ]
  },
  {
   "cell_type": "code",
   "execution_count": 73,
   "id": "dd1a8aec-5077-4fa0-b522-083c2d129bb5",
   "metadata": {},
   "outputs": [
    {
     "data": {
      "text/html": [
       "<div>\n",
       "<style scoped>\n",
       "    .dataframe tbody tr th:only-of-type {\n",
       "        vertical-align: middle;\n",
       "    }\n",
       "\n",
       "    .dataframe tbody tr th {\n",
       "        vertical-align: top;\n",
       "    }\n",
       "\n",
       "    .dataframe thead th {\n",
       "        text-align: right;\n",
       "    }\n",
       "</style>\n",
       "<table border=\"1\" class=\"dataframe\">\n",
       "  <thead>\n",
       "    <tr style=\"text-align: right;\">\n",
       "      <th></th>\n",
       "      <th>sepal_length</th>\n",
       "      <th>sepal_width</th>\n",
       "      <th>petal_length</th>\n",
       "      <th>petal_width</th>\n",
       "      <th>species</th>\n",
       "    </tr>\n",
       "  </thead>\n",
       "  <tbody>\n",
       "    <tr>\n",
       "      <th>0</th>\n",
       "      <td>5.1</td>\n",
       "      <td>3.5</td>\n",
       "      <td>1.4</td>\n",
       "      <td>0.2</td>\n",
       "      <td>Iris-setosa</td>\n",
       "    </tr>\n",
       "    <tr>\n",
       "      <th>1</th>\n",
       "      <td>4.9</td>\n",
       "      <td>3.0</td>\n",
       "      <td>1.4</td>\n",
       "      <td>0.2</td>\n",
       "      <td>Iris-setosa</td>\n",
       "    </tr>\n",
       "    <tr>\n",
       "      <th>2</th>\n",
       "      <td>4.7</td>\n",
       "      <td>3.2</td>\n",
       "      <td>1.3</td>\n",
       "      <td>0.2</td>\n",
       "      <td>Iris-setosa</td>\n",
       "    </tr>\n",
       "    <tr>\n",
       "      <th>3</th>\n",
       "      <td>4.6</td>\n",
       "      <td>3.1</td>\n",
       "      <td>1.5</td>\n",
       "      <td>0.2</td>\n",
       "      <td>Iris-setosa</td>\n",
       "    </tr>\n",
       "    <tr>\n",
       "      <th>4</th>\n",
       "      <td>5.0</td>\n",
       "      <td>3.6</td>\n",
       "      <td>1.4</td>\n",
       "      <td>0.2</td>\n",
       "      <td>Iris-setosa</td>\n",
       "    </tr>\n",
       "  </tbody>\n",
       "</table>\n",
       "</div>"
      ],
      "text/plain": [
       "   sepal_length  sepal_width  petal_length  petal_width      species\n",
       "0           5.1          3.5           1.4          0.2  Iris-setosa\n",
       "1           4.9          3.0           1.4          0.2  Iris-setosa\n",
       "2           4.7          3.2           1.3          0.2  Iris-setosa\n",
       "3           4.6          3.1           1.5          0.2  Iris-setosa\n",
       "4           5.0          3.6           1.4          0.2  Iris-setosa"
      ]
     },
     "execution_count": 73,
     "metadata": {},
     "output_type": "execute_result"
    }
   ],
   "source": [
    "df1=pd.read_csv(\"p1_Data.csv\")\n",
    "df1.head()"
   ]
  },
  {
   "cell_type": "code",
   "execution_count": 65,
   "id": "23e427dc-8fad-439c-9ef8-077eacbf4a5d",
   "metadata": {},
   "outputs": [
    {
     "data": {
      "text/plain": [
       "(150, 5)"
      ]
     },
     "execution_count": 65,
     "metadata": {},
     "output_type": "execute_result"
    }
   ],
   "source": [
    "df1.shape"
   ]
  },
  {
   "cell_type": "code",
   "execution_count": 61,
   "id": "2cd0939a-9eae-458a-b1fc-9072137b166f",
   "metadata": {},
   "outputs": [
    {
     "data": {
      "text/plain": [
       "sepal_length    0\n",
       "sepal_width     0\n",
       "petal_length    0\n",
       "petal_width     0\n",
       "species         0\n",
       "dtype: int64"
      ]
     },
     "execution_count": 61,
     "metadata": {},
     "output_type": "execute_result"
    }
   ],
   "source": [
    "df1.isnull().sum()"
   ]
  },
  {
   "cell_type": "code",
   "execution_count": 107,
   "id": "795dcf0a-49ff-427f-ac0c-5ec6c7fdc795",
   "metadata": {},
   "outputs": [
    {
     "data": {
      "text/plain": [
       "<Figure size 1000x600 with 0 Axes>"
      ]
     },
     "execution_count": 107,
     "metadata": {},
     "output_type": "execute_result"
    },
    {
     "data": {
      "image/png": "[encoded data removed]",
      "text/plain": [
       "<Figure size 800x400 with 4 Axes>"
      ]
     },
     "metadata": {},
     "output_type": "display_data"
    },
    {
     "data": {
      "text/plain": [
       "<Figure size 1000x600 with 0 Axes>"
      ]
     },
     "metadata": {},
     "output_type": "display_data"
    }
   ],
   "source": [
    "df1.hist(bins=10,edgecolor='black',grid=False)\n",
    "plt.figure(figsize=(10, 6))"
   ]
  },
  {
   "cell_type": "code",
   "execution_count": 23,
   "id": "0c2f3825-7a7a-4da6-8645-f3b567aa784b",
   "metadata": {},
   "outputs": [],
   "source": [
    "df1['species'] = LabelEncoder().fit_transform(df1['species'])"
   ]
  },
  {
   "cell_type": "code",
   "execution_count": 25,
   "id": "959e6ef8-45ba-46e7-9690-fee4cd0b37fb",
   "metadata": {},
   "outputs": [
    {
     "data": {
      "text/html": [
       "<div>\n",
       "<style scoped>\n",
       "    .dataframe tbody tr th:only-of-type {\n",
       "        vertical-align: middle;\n",
       "    }\n",
       "\n",
       "    .dataframe tbody tr th {\n",
       "        vertical-align: top;\n",
       "    }\n",
       "\n",
       "    .dataframe thead th {\n",
       "        text-align: right;\n",
       "    }\n",
       "</style>\n",
       "<table border=\"1\" class=\"dataframe\">\n",
       "  <thead>\n",
       "    <tr style=\"text-align: right;\">\n",
       "      <th></th>\n",
       "      <th>sepal_length</th>\n",
       "      <th>sepal_width</th>\n",
       "      <th>petal_length</th>\n",
       "      <th>petal_width</th>\n",
       "      <th>species</th>\n",
       "    </tr>\n",
       "  </thead>\n",
       "  <tbody>\n",
       "    <tr>\n",
       "      <th>0</th>\n",
       "      <td>5.1</td>\n",
       "      <td>3.5</td>\n",
       "      <td>1.4</td>\n",
       "      <td>0.2</td>\n",
       "      <td>0</td>\n",
       "    </tr>\n",
       "    <tr>\n",
       "      <th>1</th>\n",
       "      <td>4.9</td>\n",
       "      <td>3.0</td>\n",
       "      <td>1.4</td>\n",
       "      <td>0.2</td>\n",
       "      <td>0</td>\n",
       "    </tr>\n",
       "    <tr>\n",
       "      <th>2</th>\n",
       "      <td>4.7</td>\n",
       "      <td>3.2</td>\n",
       "      <td>1.3</td>\n",
       "      <td>0.2</td>\n",
       "      <td>0</td>\n",
       "    </tr>\n",
       "    <tr>\n",
       "      <th>3</th>\n",
       "      <td>4.6</td>\n",
       "      <td>3.1</td>\n",
       "      <td>1.5</td>\n",
       "      <td>0.2</td>\n",
       "      <td>0</td>\n",
       "    </tr>\n",
       "    <tr>\n",
       "      <th>4</th>\n",
       "      <td>5.0</td>\n",
       "      <td>3.6</td>\n",
       "      <td>1.4</td>\n",
       "      <td>0.2</td>\n",
       "      <td>0</td>\n",
       "    </tr>\n",
       "  </tbody>\n",
       "</table>\n",
       "</div>"
      ],
      "text/plain": [
       "   sepal_length  sepal_width  petal_length  petal_width  species\n",
       "0           5.1          3.5           1.4          0.2        0\n",
       "1           4.9          3.0           1.4          0.2        0\n",
       "2           4.7          3.2           1.3          0.2        0\n",
       "3           4.6          3.1           1.5          0.2        0\n",
       "4           5.0          3.6           1.4          0.2        0"
      ]
     },
     "execution_count": 25,
     "metadata": {},
     "output_type": "execute_result"
    }
   ],
   "source": [
    "df1.head()"
   ]
  },
  {
   "cell_type": "code",
   "execution_count": 27,
   "id": "4e3446f3-49d4-43d1-911a-4f375001cae5",
   "metadata": {},
   "outputs": [
    {
     "data": {
      "text/plain": [
       "array([0, 1, 2])"
      ]
     },
     "execution_count": 27,
     "metadata": {},
     "output_type": "execute_result"
    }
   ],
   "source": [
    "df1['species'].unique()"
   ]
  },
  {
   "cell_type": "code",
   "execution_count": 31,
   "id": "836a9c02-bbcc-41c7-ae76-6c90e4b84e1b",
   "metadata": {},
   "outputs": [
    {
     "name": "stdout",
     "output_type": "stream",
     "text": [
      "              sepal_length  sepal_width  petal_length  petal_width   species\n",
      "sepal_length      1.000000    -0.109369      0.871754     0.817954  0.782561\n",
      "sepal_width      -0.109369     1.000000     -0.420516    -0.356544 -0.419446\n",
      "petal_length      0.871754    -0.420516      1.000000     0.962757  0.949043\n",
      "petal_width       0.817954    -0.356544      0.962757     1.000000  0.956464\n",
      "species           0.782561    -0.419446      0.949043     0.956464  1.000000\n"
     ]
    }
   ],
   "source": [
    "correlation_matrix = df1.corr()\n",
    "print(correlation_matrix)"
   ]
  },
  {
   "cell_type": "code",
   "execution_count": 113,
   "id": "a4f34479-63f8-4e2d-aedb-578c9ba43413",
   "metadata": {},
   "outputs": [
    {
     "data": {
      "text/plain": [
       "<Figure size 1000x1000 with 0 Axes>"
      ]
     },
     "execution_count": 113,
     "metadata": {},
     "output_type": "execute_result"
    },
    {
     "data": {
      "image/png": "[encoded data removed]",
      "text/plain": [
       "<Figure size 800x400 with 2 Axes>"
      ]
     },
     "metadata": {},
     "output_type": "display_data"
    },
    {
     "data": {
      "text/plain": [
       "<Figure size 1000x1000 with 0 Axes>"
      ]
     },
     "metadata": {},
     "output_type": "display_data"
    }
   ],
   "source": [
    "sns.heatmap(correlation_matrix, annot=True, cmap='coolwarm', center=0, fmt='.2f', square=True, linewidths=.5)\n",
    "plt.title('Correlation Matrix Heatmap', fontsize=16)\n",
    "plt.figure(figsize=(10, 10))"
   ]
  },
  {
   "cell_type": "raw",
   "id": "4fcd2f6e-f2e1-4d02-a891-8c48e8cd7312",
   "metadata": {},
   "source": [
    "## End of EDA"
   ]
  },
  {
   "cell_type": "code",
   "execution_count": 59,
   "id": "966abe8f-9a67-4378-acd3-8f31ff1f7623",
   "metadata": {},
   "outputs": [
    {
     "data": {
      "text/plain": [
       "(150, 4)"
      ]
     },
     "execution_count": 59,
     "metadata": {},
     "output_type": "execute_result"
    }
   ],
   "source": [
    "#split the features and target set \n",
    "X=df1.drop(columns='species',axis=0)\n",
    "Y=df1['species']\n",
    "X.shape"
   ]
  },
  {
   "cell_type": "code",
   "execution_count": 81,
   "id": "925a34f7-bc64-4ce9-aa6b-f80d2853ae33",
   "metadata": {},
   "outputs": [
    {
     "name": "stdout",
     "output_type": "stream",
     "text": [
      "Training Feature Shape:  (135, 4)\n",
      "Training Target Shape:  (135,)\n",
      "Testing Feature Shape:  (15, 4)\n",
      "Testing Target Shape:  (15,)\n"
     ]
    }
   ],
   "source": [
    "X_train,X_test,Y_train,Y_test= train_test_split(X,Y,train_size=0.9,shuffle=False)\n",
    "print(\"Training Feature Shape: \",X_train.shape)\n",
    "print(\"Training Target Shape: \",Y_train.shape)\n",
    "print(\"Testing Feature Shape: \",X_test.shape)\n",
    "print(\"Testing Target Shape: \",Y_test.shape)"
   ]
  },
  {
   "cell_type": "code",
   "execution_count": null,
   "id": "922ca435-49b1-4277-ac71-5a11910133e5",
   "metadata": {},
   "outputs": [],
   "source": [
    "def linear_regression(X_train,Y_train,X_test,Y_test,learning_rate):\n",
    "    model=LinearRegression()\n",
    "    modle.fit(X_train,Y_train)"
   ]
  },
  {
   "cell_type": "code",
   "execution_count": 127,
   "id": "a4e832a0-7e6d-4dc2-8f3e-c74c3bd79f97",
   "metadata": {},
   "outputs": [
    {
     "name": "stdout",
     "output_type": "stream",
     "text": [
      "Learning rate: 0.001\n",
      "RMSE: 0.3789861850076458\n",
      "Coefficients: [-0.01846467 -0.13231445  0.33889498  0.17399391]\n",
      "Intercept: [-0.02767817]\n",
      "\n",
      "Learning rate: 0.01\n",
      "RMSE: 0.34394965225982854\n",
      "Coefficients: [-0.09249749 -0.04001777  0.32291852  0.32362824]\n",
      "Intercept: [-0.01895445]\n",
      "\n",
      "Learning rate: 0.1\n",
      "RMSE: 3600739202965.099\n",
      "Coefficients: [-3.63657223e+11  4.45840491e+11 -2.63921206e+11 -4.91669687e+11]\n",
      "Intercept: [-1.09526733e+11]\n",
      "\n"
     ]
    },
    {
     "data": {
      "text/plain": [
       "<Figure size 600x400 with 0 Axes>"
      ]
     },
     "execution_count": 127,
     "metadata": {},
     "output_type": "execute_result"
    },
    {
     "data": {
      "image/png": "[encoded data removed]",
      "text/plain": [
       "<Figure size 800x400 with 1 Axes>"
      ]
     },
     "metadata": {},
     "output_type": "display_data"
    },
    {
     "data": {
      "text/plain": [
       "<Figure size 600x400 with 0 Axes>"
      ]
     },
     "metadata": {},
     "output_type": "display_data"
    }
   ],
   "source": [
    "learning_rates = [0.001, 0.01, 0.1]\n",
    "\n",
    "rmse_list = []\n",
    "model_coef_list=[]\n",
    "model_intercept_list=[]\n",
    "\n",
    "for lr in learning_rates:\n",
    "    model = SGDRegressor(learning_rate='constant', eta0=lr,random_state=1)\n",
    "    model.fit(X_train, Y_train)\n",
    "\n",
    "    Y_pred = model.predict(X_test)\n",
    "\n",
    "    rmse = np.sqrt(mean_squared_error(Y_test,Y_pred))\n",
    "    rmse_list.append(rmse)\n",
    "    model_coef = model.coef_\n",
    "    model_coef_list.append(model_coef)\n",
    "    model_intercept=model.intercept_\n",
    "    model_intercept_list.append(model_intercept)\n",
    "\n",
    "    print(f\"Learning rate: {lr}\")\n",
    "    print(f\"RMSE: {rmse}\")\n",
    "    print(f\"Coefficients: {model_coef}\")\n",
    "    print(f\"Intercept: {model_intercept}\")\n",
    "    print()\n",
    "\n",
    "plt.scatter(learning_rates,rmse_list,c='g')\n",
    "plt.title('Linear Regression with Different Learning Rates using SGD')\n",
    "plt.xlabel('learning_rates')\n",
    "plt.ylabel('rmse')\n",
    "plt.figure(figsize=(6,4))\n"
   ]
  },
  {
   "cell_type": "raw",
   "id": "04091e7f-ca6a-4740-bcf4-44d17f0b9061",
   "metadata": {},
   "source": [
    "so for the learning rate of 0.01 the Root mean square error is smallest , index = 1"
   ]
  },
  {
   "cell_type": "code",
   "execution_count": 131,
   "id": "7a25aa9c-e362-4d1d-aa4e-247e72b813ef",
   "metadata": {},
   "outputs": [
    {
     "name": "stdout",
     "output_type": "stream",
     "text": [
      "For The Optimal ONE\n",
      "Learning rate: 0.01\n",
      "Model RMSE: 0.34394965225982854\n",
      "Model Coefficients: [-0.09249749 -0.04001777  0.32291852  0.32362824]\n",
      "Model Intercept: [-0.01895445]\n"
     ]
    }
   ],
   "source": [
    "print(\"For The Optimal ONE\")\n",
    "index = 1\n",
    "print(f\"Learning rate: {learning_rates[index]}\")\n",
    "print(f\"Model RMSE: {rmse_list[index]}\")\n",
    "print(f\"Model Coefficients: {model_coef_list[index]}\")\n",
    "print(f\"Model Intercept: {model_intercept_list[index]}\")"
   ]
  },
  {
   "cell_type": "raw",
   "id": "4409d585-8357-4b34-9d34-3e839ab7e5cd",
   "metadata": {},
   "source": [
    "*** BOUNS TASK ***"
   ]
  },
  {
   "cell_type": "code",
   "execution_count": 135,
   "id": "1dbdaabe-f046-4e71-b1d0-817588ef7bc0",
   "metadata": {},
   "outputs": [],
   "source": [
    "from sklearn.cluster import KMeans"
   ]
  },
  {
   "cell_type": "code",
   "execution_count": 145,
   "id": "7251be9e-5884-4ad9-9e61-66ad2ae34374",
   "metadata": {},
   "outputs": [
    {
     "name": "stdout",
     "output_type": "stream",
     "text": [
      "Predction\n",
      "[0 0 0 2 0 0 0 2 0 0 0 2 0 0 2]\n"
     ]
    },
    {
     "name": "stderr",
     "output_type": "stream",
     "text": [
      "C:\\Users\\rajbh\\anaconda3\\Lib\\site-packages\\sklearn\\cluster\\_kmeans.py:1446: UserWarning: KMeans is known to have a memory leak on Windows with MKL, when there are less chunks than available threads. You can avoid it by setting the environment variable OMP_NUM_THREADS=1.\n",
      "  warnings.warn(\n"
     ]
    }
   ],
   "source": [
    "kmeans = KMeans(n_clusters=3,random_state=1)\n",
    "kmeans.fit(X_train)\n",
    "\n",
    "Y_clus_pred = kmeans.predict(X_test)\n",
    "print(\"Predction\")\n",
    "print(Y_clus_pred)"
   ]
  },
  {
   "cell_type": "code",
   "execution_count": null,
   "id": "66033550-5a4e-4302-93c0-e5d627647b69",
   "metadata": {},
   "outputs": [],
   "source": [
    "## END OF THE TASK 1"
   ]
  }
 ],
 "metadata": {
  "kernelspec": {
   "display_name": "Python 3 (ipykernel)",
   "language": "python",
   "name": "python3"
  },
  "language_info": {
   "codemirror_mode": {
    "name": "ipython",
    "version": 3
   },
   "file_extension": ".py",
   "mimetype": "text/x-python",
   "name": "python",
   "nbconvert_exporter": "python",
   "pygments_lexer": "ipython3",
   "version": "3.12.4"
  }
 },
 "nbformat": 4,
 "nbformat_minor": 5
}
